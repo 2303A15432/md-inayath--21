{
  "nbformat": 4,
  "nbformat_minor": 0,
  "metadata": {
    "colab": {
      "provenance": [],
      "authorship_tag": "ABX9TyOu38oddoPgmyk69PN/3dRW",
      "include_colab_link": true
    },
    "kernelspec": {
      "name": "python3",
      "display_name": "Python 3"
    },
    "language_info": {
      "name": "python"
    }
  },
  "cells": [
    {
      "cell_type": "markdown",
      "metadata": {
        "id": "view-in-github",
        "colab_type": "text"
      },
      "source": [
        "<a href=\"https://colab.research.google.com/github/2303A15432/md-inayath--21/blob/main/Untitled0.ipynb\" target=\"_parent\"><img src=\"https://colab.research.google.com/assets/colab-badge.svg\" alt=\"Open In Colab\"/></a>"
      ]
    },
    {
      "cell_type": "code",
      "execution_count": 2,
      "metadata": {
        "colab": {
          "base_uri": "https://localhost:8080/"
        },
        "id": "RQotsmNa3tsN",
        "outputId": "b1c5d3be-3fd5-42ba-f29e-cf10835437bd"
      },
      "outputs": [
        {
          "output_type": "stream",
          "name": "stdout",
          "text": [
            "DFS traversal order: ['A', 'B', 'D', 'E', 'H', 'C', 'F', 'G']\n"
          ]
        }
      ],
      "source": [
        "def depth_first_search(graph, start):\n",
        "    \"\"\"\n",
        "    Perform Depth First Search (DFS) using a stack.\n",
        "\n",
        "    Parameters:\n",
        "    graph (dict): Adjacency list representation of the graph.\n",
        "    start (str): The starting node for the DFS.\n",
        "\n",
        "    Returns:\n",
        "    list: List of nodes in the order they were visited.\n",
        "    \"\"\"\n",
        "    # Initialize a stack with the start node\n",
        "    stack = [start]\n",
        "    visited = set()  # To keep track of visited nodes\n",
        "    result = []  # To store the order of visited nodes\n",
        "\n",
        "    while stack:\n",
        "        # Pop a node from the stack\n",
        "        node = stack.pop()\n",
        "\n",
        "        if node not in visited:\n",
        "            # Process the node (here we just print it or add to result)\n",
        "            visited.add(node)\n",
        "            result.append(node)\n",
        "\n",
        "            # Push all adjacent nodes (children) to the stack\n",
        "            # Note: We add adjacent nodes in reverse order if we want to preserve the order\n",
        "            for neighbor in reversed(graph[node]):\n",
        "                if neighbor not in visited:\n",
        "                    stack.append(neighbor)\n",
        "\n",
        "    return result\n",
        "\n",
        "# Example usage\n",
        "if __name__ == \"__main__\":\n",
        "    # Graph represented as an adjacency list\n",
        "    graph = {\n",
        "        'A': ['B', 'C'],\n",
        "        'B': ['D', 'E'],\n",
        "        'C': ['F', 'G'],\n",
        "        'D': [],\n",
        "        'E': ['H'],\n",
        "        'F': [],\n",
        "        'G': [],\n",
        "        'H': []\n",
        "    }\n",
        "\n",
        "    start_node = 'A'\n",
        "    print(\"DFS traversal order:\", depth_first_search(graph, start_node))\n",
        "\n"
      ]
    }
  ]
}