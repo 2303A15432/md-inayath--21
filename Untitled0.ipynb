{
  "nbformat": 4,
  "nbformat_minor": 0,
  "metadata": {
    "colab": {
      "provenance": [],
      "authorship_tag": "ABX9TyP++J5ar+RMyPPbA6Fyva3I",
      "include_colab_link": true
    },
    "kernelspec": {
      "name": "python3",
      "display_name": "Python 3"
    },
    "language_info": {
      "name": "python"
    }
  },
  "cells": [
    {
      "cell_type": "markdown",
      "metadata": {
        "id": "view-in-github",
        "colab_type": "text"
      },
      "source": [
        "<a href=\"https://colab.research.google.com/github/2303A15432/md-inayath--21/blob/main/Untitled0.ipynb\" target=\"_parent\"><img src=\"https://colab.research.google.com/assets/colab-badge.svg\" alt=\"Open In Colab\"/></a>"
      ]
    },
    {
      "cell_type": "code",
      "execution_count": 1,
      "metadata": {
        "colab": {
          "base_uri": "https://localhost:8080/"
        },
        "id": "RQotsmNa3tsN",
        "outputId": "3f9f1d04-941a-4680-8873-e15d56961cfd"
      },
      "outputs": [
        {
          "output_type": "stream",
          "name": "stdout",
          "text": [
            "BFS Traversal starting from vertex: A\n",
            "A B C D E F "
          ]
        }
      ],
      "source": [
        "from collections import deque\n",
        "\n",
        "def bfs(graph, start_vertex):\n",
        "    # Create a queue for BFS and add the starting vertex\n",
        "    queue = deque([start_vertex])\n",
        "    # Set to keep track of visited vertices\n",
        "    visited = set([start_vertex])\n",
        "\n",
        "    while queue:\n",
        "        # Dequeue a vertex from the queue\n",
        "        current_vertex = queue.popleft()\n",
        "        # Print the current vertex\n",
        "        print(current_vertex, end=' ')\n",
        "\n",
        "        # Enqueue all unvisited neighbors\n",
        "        for neighbor in graph[current_vertex]:\n",
        "            if neighbor not in visited:\n",
        "                visited.add(neighbor)\n",
        "                queue.append(neighbor)\n",
        "\n",
        "# Example usage:\n",
        "if __name__ == \"__main__\":\n",
        "    # Example graph represented as an adjacency list\n",
        "    graph = {\n",
        "        'A': ['B', 'C'],\n",
        "        'B': ['A', 'D', 'E'],\n",
        "        'C': ['A', 'F'],\n",
        "        'D': ['B'],\n",
        "        'E': ['B', 'F'],\n",
        "        'F': ['C', 'E']\n",
        "    }\n",
        "\n",
        "    start_vertex = 'A'\n",
        "    print(\"BFS Traversal starting from vertex:\", start_vertex)\n",
        "    bfs(graph, start_vertex)\n"
      ]
    }
  ]
}